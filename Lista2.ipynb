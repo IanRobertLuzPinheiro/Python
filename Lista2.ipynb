{
 "cells": [
  {
   "cell_type": "markdown",
   "id": "19fa3360",
   "metadata": {},
   "source": [
    "# Lista de exercícios 2 - Monitoria"
   ]
  },
  {
   "cell_type": "markdown",
   "id": "1911a008",
   "metadata": {},
   "source": [
    "## Questão 1\n",
    "\n",
    "Faça um programa que calcule o valor da expressão:  \n",
    "ℎ = 1/1 + 1/2 + 1/3 + ... + 1/𝑁  \n",
    "Dado o valor de N (passado pelo usuário) o programa deve calcular o somatório dessas frações."
   ]
  },
  {
   "cell_type": "code",
   "execution_count": 3,
   "id": "437bb6d6",
   "metadata": {},
   "outputs": [
    {
     "name": "stdout",
     "output_type": "stream",
     "text": [
      "Digite o valor de N:10\n",
      "2.9289682539682538\n"
     ]
    }
   ],
   "source": [
    "N = int(input(\"Digite o valor de N:\"))\n",
    "\n",
    "h = 0\n",
    "\n",
    "while N > 0:\n",
    "    h += 1/N\n",
    "    N -= 1\n",
    "print(h)"
   ]
  },
  {
   "cell_type": "markdown",
   "id": "df3746ee",
   "metadata": {},
   "source": [
    "# Questão 2\n",
    "\n",
    "Para que um número natural n seja triangular, o produto de três números consecutivos é igual ao seu valor. Crie um algoritmo que verifique se um número natural é triangular ou não. O valor fornecido pelo usuário deve ser um inteiro não-negativo.  \n",
    "Exemplo: 120 é triangular pois 4*5*6 = 120"
   ]
  },
  {
   "cell_type": "code",
   "execution_count": 6,
   "id": "33b71a7e",
   "metadata": {},
   "outputs": [
    {
     "name": "stdout",
     "output_type": "stream",
     "text": [
      "Digite um número inteiro não negativo: 101\n",
      "10\n"
     ]
    }
   ],
   "source": [
    "import math\n",
    "N = int(input(\"Digite um número inteiro não negativo: \"))\n",
    "\n",
    "r = round(math.sqrt(N))\n",
    "r*r = n\n",
    "(r/2)*(r/2+1)*(r/2+2) = (r/2)*\n",
    "(r/2)*(r/2+1)=r²/4+r/2\n",
    "print(r)"
   ]
  },
  {
   "cell_type": "code",
   "execution_count": null,
   "id": "0013bccd",
   "metadata": {},
   "outputs": [],
   "source": []
  }
 ],
 "metadata": {
  "kernelspec": {
   "display_name": "Python 3 (ipykernel)",
   "language": "python",
   "name": "python3"
  },
  "language_info": {
   "codemirror_mode": {
    "name": "ipython",
    "version": 3
   },
   "file_extension": ".py",
   "mimetype": "text/x-python",
   "name": "python",
   "nbconvert_exporter": "python",
   "pygments_lexer": "ipython3",
   "version": "3.11.4"
  }
 },
 "nbformat": 4,
 "nbformat_minor": 5
}
