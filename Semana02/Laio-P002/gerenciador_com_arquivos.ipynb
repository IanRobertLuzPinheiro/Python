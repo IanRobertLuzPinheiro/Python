{
 "cells": [
  {
   "cell_type": "markdown",
   "metadata": {},
   "source": [
    ">Primeiramente, foi criado uma classe Tarefa que inicializa cada tarefa com um Id único e atributos próprios."
   ]
  },
  {
   "cell_type": "code",
   "execution_count": 95,
   "metadata": {},
   "outputs": [],
   "source": [
    "class Tarefa:\n",
    "    proximo_id = 1\n",
    "    def __init__(self, desc, id = 0, status = False):\n",
    "        if id == 0:\n",
    "            self.id = Tarefa.proximo_id\n",
    "            Tarefa.proximo_id += 1\n",
    "        else:\n",
    "            self.id = id\n",
    "            Tarefa.proximo_id = id+1\n",
    "        self.desc = desc\n",
    "        self.status = status"
   ]
  },
  {
   "cell_type": "markdown",
   "metadata": {},
   "source": [
    "> Posteriormente foi criado uma classe Gerenciador que irá realizar todas as manipulações na lista de tarefas, como adicionar uma nova tarefa na lista, exibir as tarefas da lista, marcar uma tarefa como realizada e editar uma tarefa na lista.\n",
    ">Além disso, ao inicializar o Gerenciador, é aberto um arquivo de texto que armazena tarefas salvas anteriormente e as recupera para execução do gerenciador de tarefas."
   ]
  },
  {
   "cell_type": "code",
   "execution_count": 111,
   "metadata": {},
   "outputs": [],
   "source": [
    "class Gerenciador:\n",
    "    def __init__(self):\n",
    "        self.tarefas = []\n",
    "        self.abrirArquivo()\n",
    "            \n",
    "\n",
    "    def addTarefa(self):\n",
    "        descricao = input(\"Qual tarefa deseja adicionar?\").capitalize()\n",
    "        nova = Tarefa(descricao)\n",
    "        self.tarefas.append(nova)\n",
    "        print(\"Tarefa Registrada!\")\n",
    "        self.atualizarArquivo()\n",
    "    \n",
    "    def listarTarefa(self):\n",
    "        print(\"Lista de Tarefas:\")\n",
    "        for item in self.tarefas:\n",
    "            x = \"x\" if item.status else \" \"\n",
    "            print(f\"{item.id}. {item.desc} [{x}]\")\n",
    "    \n",
    "    def marcarTarefa(self):\n",
    "        id = int(input(\"Qual o id da Tarefa?\"))\n",
    "        tarefa = 0\n",
    "        for item in self.tarefas:\n",
    "            if item.id == id:\n",
    "                tarefa = item\n",
    "                break\n",
    "        if tarefa == 0:\n",
    "            print(\"Tarefa Não Encontrada!\")\n",
    "            return\n",
    "        self.tarefas.remove(tarefa)\n",
    "        tarefa.status = True\n",
    "        self.tarefas.insert(0, tarefa)\n",
    "        self.atualizarArquivo()\n",
    "        print(\"Tarefa Marcada como Realizada!\")\n",
    "        \n",
    "    def editarTarefa(self):\n",
    "        id = int(input(\"Qual o id da Tarefa?\"))\n",
    "        tarefa = 0\n",
    "        for index, item in enumerate(self.tarefas):\n",
    "            if item.id == id:\n",
    "                tarefa = item\n",
    "                indice = index\n",
    "                break\n",
    "        if tarefa == 0:\n",
    "            print(\"Tarefa Não Encontrada!\")\n",
    "            return\n",
    "        self.tarefas.remove(tarefa)\n",
    "        tarefa.desc = input(\"Informe a nova descrição: \").capitalize()\n",
    "        self.tarefas.insert(index, tarefa)\n",
    "        self.atualizarArquivo()\n",
    "        print(\"Tarefa Alterada com Sucesso!\")\n",
    "    \n",
    "    def atualizarArquivo(self):\n",
    "        with open('dados.txt', 'w') as arquivo:\n",
    "            for item in self.tarefas:\n",
    "                dados = f\"{item.id},{item.desc},{item.status},\\n\"\n",
    "                arquivo.write(dados)\n",
    "                \n",
    "    def abrirArquivo(self):\n",
    "        with open('dados.txt', 'r') as arquivo:\n",
    "            dados = arquivo.readlines()\n",
    "            for linha in dados:\n",
    "                atributos = linha.split(',')\n",
    "                tarefa = Tarefa(atributos[1], int(atributos[0]), False if atributos[2] == \"False\" else True)\n",
    "                self.tarefas.append(tarefa)\n",
    "            "
   ]
  },
  {
   "cell_type": "markdown",
   "metadata": {},
   "source": [
    "> Por fim, chama-se o Gerenciador e executa as funções nele contidas para execução."
   ]
  },
  {
   "cell_type": "code",
   "execution_count": 121,
   "metadata": {},
   "outputs": [
    {
     "name": "stdout",
     "output_type": "stream",
     "text": [
      "Tarefa Registrada!\n",
      "Tarefa Registrada!\n",
      "Tarefa Registrada!\n",
      "Lista de Tarefas:\n",
      "8. Comer [ ]\n",
      "9. Beber [ ]\n",
      "10. Fazer [ ]\n",
      "Tarefa Marcada como Realizada!\n",
      "Lista de Tarefas:\n",
      "9. Beber [x]\n",
      "8. Comer [ ]\n",
      "10. Fazer [ ]\n",
      "Tarefa Alterada com Sucesso!\n",
      "Lista de Tarefas:\n",
      "9. Beber [x]\n",
      "8. Comer [ ]\n",
      "10. Fazer atividade [ ]\n"
     ]
    }
   ],
   "source": [
    "App = Gerenciador()\n",
    "App.addTarefa()\n",
    "App.addTarefa()\n",
    "App.addTarefa()\n",
    "App.listarTarefa()\n",
    "App.marcarTarefa()\n",
    "App.listarTarefa()\n",
    "App.editarTarefa()\n",
    "App.listarTarefa()"
   ]
  },
  {
   "cell_type": "code",
   "execution_count": 122,
   "metadata": {},
   "outputs": [],
   "source": [
    "novo = Gerenciador()"
   ]
  },
  {
   "cell_type": "code",
   "execution_count": 101,
   "metadata": {},
   "outputs": [
    {
     "name": "stdout",
     "output_type": "stream",
     "text": [
      "Tarefa Registrada!\n",
      "Tarefa Registrada!\n"
     ]
    }
   ],
   "source": [
    "novo.addTarefa()\n",
    "novo.addTarefa()"
   ]
  },
  {
   "cell_type": "code",
   "execution_count": 73,
   "metadata": {},
   "outputs": [],
   "source": [
    "novo.abrirArquivo()"
   ]
  },
  {
   "cell_type": "code",
   "execution_count": 123,
   "metadata": {},
   "outputs": [
    {
     "name": "stdout",
     "output_type": "stream",
     "text": [
      "Lista de Tarefas:\n",
      "9. Beber [x]\n",
      "8. Comer [ ]\n",
      "10. Fazer atividade [ ]\n"
     ]
    }
   ],
   "source": [
    "novo.listarTarefa()"
   ]
  },
  {
   "cell_type": "code",
   "execution_count": 114,
   "metadata": {},
   "outputs": [
    {
     "name": "stdout",
     "output_type": "stream",
     "text": [
      "Tarefa Marcada como Realizada!\n"
     ]
    }
   ],
   "source": [
    "novo.marcarTarefa()"
   ]
  },
  {
   "cell_type": "code",
   "execution_count": 116,
   "metadata": {},
   "outputs": [
    {
     "name": "stdout",
     "output_type": "stream",
     "text": [
      "Tarefa Alterada com Sucesso!\n"
     ]
    }
   ],
   "source": [
    "novo.editarTarefa()"
   ]
  }
 ],
 "metadata": {
  "kernelspec": {
   "display_name": "base",
   "language": "python",
   "name": "python3"
  },
  "language_info": {
   "codemirror_mode": {
    "name": "ipython",
    "version": 3
   },
   "file_extension": ".py",
   "mimetype": "text/x-python",
   "name": "python",
   "nbconvert_exporter": "python",
   "pygments_lexer": "ipython3",
   "version": "3.11.5"
  }
 },
 "nbformat": 4,
 "nbformat_minor": 2
}
