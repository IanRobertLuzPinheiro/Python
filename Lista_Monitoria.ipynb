{
 "cells": [
  {
   "cell_type": "markdown",
   "id": "f4640848",
   "metadata": {},
   "source": [
    "# Lista de exercícios 1 - Monitoria"
   ]
  },
  {
   "cell_type": "markdown",
   "id": "f4dd494f",
   "metadata": {},
   "source": [
    "## Questão 1\n",
    "\n",
    "Faça um programa que calcule e mostre o volume de uma esfera sendo fornecido o valor de seu\n",
    "raio (R). A fórmula para calcular o volume é: (4/3) * pi * R3. Considere (atribua) para pi o valor\n",
    "3.14159"
   ]
  },
  {
   "cell_type": "code",
   "execution_count": 11,
   "id": "ce690e75",
   "metadata": {},
   "outputs": [
    {
     "name": "stdout",
     "output_type": "stream",
     "text": [
      "Digite o valor do raio: 15\n",
      "Volume = 14137.155\n"
     ]
    }
   ],
   "source": [
    "raio = int(input(\"Digite o valor do raio: \"))\n",
    "pi = 3.14159\n",
    "volume = (4/3)*pi*raio**3\n",
    "print(f\"Volume = {volume:.3f}\")"
   ]
  },
  {
   "cell_type": "markdown",
   "id": "7ee48d08",
   "metadata": {},
   "source": [
    "## Questão 2\n",
    "\n",
    "Calcule o consumo médio de um automóvel sendo fornecidos a distância total percorrida (em Km) e o total de combustível gasto (em litros). Considerando que o consumo médio é dado pela fórmula: 𝑐𝑜𝑛𝑠𝑢𝑚𝑜 = 𝑑𝑖𝑠𝑡𝑎𝑛𝑐𝑖𝑎/𝑡𝑜𝑡𝑎𝑙𝐶𝑜𝑚𝑏𝑢𝑠𝑡𝑖𝑣𝑒l"
   ]
  },
  {
   "cell_type": "code",
   "execution_count": 21,
   "id": "2d9f1a30",
   "metadata": {},
   "outputs": [
    {
     "name": "stdout",
     "output_type": "stream",
     "text": [
      "Digite a distância percorrida: 2254\n",
      "Digite o total de combustível gasto: 124.4\n",
      "O consumo médio de combustível foi de 18.119\n"
     ]
    }
   ],
   "source": [
    "distancia = int(input(\"Digite a distância percorrida: \"))\n",
    "combustivel = float(input(\"Digite o total de combustível gasto: \"))\n",
    "print(f\"O consumo médio de combustível foi de {distancia/combustivel:.3f}\")"
   ]
  },
  {
   "cell_type": "markdown",
   "id": "b10d44ad",
   "metadata": {},
   "source": [
    "## Questão 3\n",
    "\n",
    "Leia 3 valores, no caso, variáveis A, B e C, que são as três notas de um aluno. A seguir, calcule a média do aluno, sabendo que a nota A tem peso 2, a nota B tem peso 3 e a nota C tem peso 5. Considere que cada nota pode ir de 0 até 10,0."
   ]
  },
  {
   "cell_type": "code",
   "execution_count": 30,
   "id": "ea06d64c",
   "metadata": {},
   "outputs": [
    {
     "name": "stdout",
     "output_type": "stream",
     "text": [
      "Digite a primeira nota do aluno: 9.5\n",
      "Digite a segunda nota do aluno: 7.6\n",
      "Digite a terceira nota do aluno: 7.9\n",
      "Média = 8.1\n"
     ]
    }
   ],
   "source": [
    "while True:\n",
    "    A = float(input(\"Digite a primeira nota do aluno: \"))\n",
    "    B = float(input(\"Digite a segunda nota do aluno: \"))\n",
    "    C = float(input(\"Digite a terceira nota do aluno: \"))\n",
    "    \n",
    "    if 0<=A<=10 and 0<=B<=10 and 0<=C<=10:\n",
    "        break\n",
    "        \n",
    "    else:\n",
    "        print(\"Digite uma nota válida no intervalo de 0 a 10!!!\")\n",
    "        \n",
    "media_ponderada = (A*2+B*3+C*5)/10\n",
    "print(f\"Média = {media_ponderada:.1f}\")"
   ]
  },
  {
   "cell_type": "markdown",
   "id": "0b2cc3c2",
   "metadata": {},
   "source": [
    "## Questão 4\n",
    "\n",
    "Faça um programa que, dado um valor inteiro representando a data, imprima o dia, o mês por extenso e o ano. O programa deve verificar se a data de entrada é válida, caso não, imprima na tela “Data inválida”. Considere todos os meses com 30 dias.\n",
    "Entradas inválidas:\n",
    "\n",
    "● Mês precisa ser maior ou igual a 01 e menor ou igual a 12.  \n",
    "● Ano maior que o atual, no caso 2024.  \n",
    "● O tamanho do inteiro não corresponde com os três campos necessários (dia, mês e ano)."
   ]
  },
  {
   "cell_type": "code",
   "execution_count": 61,
   "id": "f987bace",
   "metadata": {},
   "outputs": [
    {
     "name": "stdout",
     "output_type": "stream",
     "text": [
      "Digite a data como um único numero inteiro: 121315161332\n",
      "Entrada inválida! Não corresponde com os três campos necessários!\n"
     ]
    },
    {
     "ename": "SystemExit",
     "evalue": "",
     "output_type": "error",
     "traceback": [
      "An exception has occurred, use %tb to see the full traceback.\n",
      "\u001b[1;31mSystemExit\u001b[0m\n"
     ]
    }
   ],
   "source": [
    "import sys\n",
    "data = input(\"Digite a data como um único numero inteiro: \")\n",
    "\n",
    "if len(data) != 8:\n",
    "    print(\"Entrada inválida! Não corresponde com os três campos necessários!\")\n",
    "    sys.exit()   \n",
    "    \n",
    "\n",
    "lista_data = list(data)\n",
    "dia = lista_data[0] + lista_data[1]\n",
    "mes = lista_data[2] + lista_data[3]\n",
    "ano = lista_data[4] + lista_data[5] + lista_data[6] + lista_data[7]\n",
    "\n",
    "if not (1 <= int(dia) <= 30):\n",
    "    print(\"Entrada inválida! O dia tem que ser maior que 0 e menor que 31!\")\n",
    "    sys.exit()\n",
    "\n",
    "if not (1 <= int(mes) <= 12):\n",
    "    print(\"Entrada inválida! O mês tem que ser maior ou igual a 01 e menor ou igual a 12!\")\n",
    "    sys.exit()\n",
    "\n",
    "if int(ano) > 2024:\n",
    "    print(\"Entrada inválida! O mês tem que ser menor que 2024!\")\n",
    "    sys.exit()\n",
    "\n",
    "\n",
    "nomes_meses = {\n",
    "    '01': 'janeiro',\n",
    "    '02': 'fevereiro',\n",
    "    '03': 'março',\n",
    "    '04': 'abril',\n",
    "    '05': 'maio',\n",
    "    '06': 'junho',\n",
    "    '07': 'julho',\n",
    "    '08': 'agosto',\n",
    "    '09': 'setembro',\n",
    "    '10': 'outubro',\n",
    "    '11': 'novembro',\n",
    "    '12': 'dezembro'\n",
    "}\n",
    "\n",
    "mes = nomes_meses.get(mes)\n",
    "\n",
    "print(f\"{dia} de {mes} de {ano}\")"
   ]
  },
  {
   "cell_type": "markdown",
   "id": "72d5f86d",
   "metadata": {},
   "source": [
    "## Questão 5 \n",
    "\n",
    "Faça um programa que peça os 3 lados de um triângulo. O programa deverá informar se os valores podem ser um triângulo. Indique, caso os lados formem um triângulo, se o mesmo é: equilátero, isósceles ou escaleno.  \n",
    "Dicas:  \n",
    "Três lados formam um triângulo quando a soma de quaisquer dois lados for maior que o terceiro;  \n",
    "a) Triângulo Equilátero: três lados iguais;  \n",
    "b) Triângulo Isósceles: quaisquer dois lados iguais;  \n",
    "c) Triângulo Escaleno: três lados diferentes;\n"
   ]
  },
  {
   "cell_type": "code",
   "execution_count": 88,
   "id": "b8901127",
   "metadata": {},
   "outputs": [
    {
     "name": "stdout",
     "output_type": "stream",
     "text": [
      "Digite os lados do triângulo separados por espaço: 1 5 2\n",
      "Não é um triângulo\n"
     ]
    }
   ],
   "source": [
    "lados_triangulo = [float(lado) for lado in input(\"Digite os lados do triângulo separados por espaço: \").split()]\n",
    "\n",
    "\n",
    "if lados_triangulo[0] + lados_triangulo[1] > lados_triangulo[2] and lados_triangulo[1] + lados_triangulo[2] > lados_triangulo[0] and lados_triangulo[2] + lados_triangulo[0] > lados_triangulo[1]:\n",
    "    if lados_triangulo[0] == lados_triangulo[1] == lados_triangulo[2]:\n",
    "        print(\"Equilátero!\")\n",
    "    elif ((lados_triangulo[0] != lados_triangulo[1]) and (lados_triangulo[0] != lados_triangulo[2]) and (lados_triangulo[1] != lados_triangulo[2])):\n",
    "        print(\"Escaleno!\")\n",
    "    else:\n",
    "        print(\"Isóceles!\")\n",
    "        \n",
    "else:\n",
    "    print(\"Não é um triângulo\")"
   ]
  },
  {
   "cell_type": "markdown",
   "id": "a3a06f2c",
   "metadata": {},
   "source": [
    "## Questão 6\n",
    "\n",
    "Larissa é uma acadêmica muito inteligente e estudiosa, com isso ela é engajada em várias atividades. Chegou o final do ano, mês da sua apresentação de TCC. Ela, muito atarefada, precisa saber se vai conseguir realizar sua apresentação antes do Natal! Mas antes de sua apresentação ela deve passar por uma verificação com sua orientadora oriental, a Prof.Takanada (/Tá com nada/).  \n",
    "Entrada:  \n",
    "A entrada é composta por um valor E (0 < E < 25) representando o dia que foi entregue o tcc para verificação. Um valor D (0 < D < 25) que representa a data final para entregar para verificação.  \n",
    "Saída:    \n",
    "Mostre, para cada caso de teste, se a acadêmica apresentará ou não. A única possibilidade da entrega não ser realizada na data é por falta de orientação da Takanada. Caso não seja possível, imprima \"Não deu!\". Caso seja entregue em até 3 dias antes do prazo final, imprima \"Muito bem! Apresenta antes do Natal!\", caso contrário, sendo muito próximo da data limite imprima \" Ops, acho que alguém vai ter que refazer!\", nesse último caso, é adicionado mais dois dias para correções, e caso a data final seja menor ou igual a véspera do natal (24), ela poderá apresentar, sendo impresso \"TCC Apresentado!\", caso contrário imprima \"Fail! Então é nataaaaal!\"\n"
   ]
  },
  {
   "cell_type": "code",
   "execution_count": null,
   "id": "a4ecaf2b",
   "metadata": {},
   "outputs": [],
   "source": []
  },
  {
   "cell_type": "markdown",
   "id": "ffff06fe",
   "metadata": {},
   "source": [
    "## Questão 7\n",
    "\n",
    "Um número natural é um inteiro não-negativo (0, 1, 2, 3, 4, 5,...). A sua tarefa neste problema é calcular a soma dos números naturais que estão presentes em um determinado intervalo [A, B] inclusive. Por exemplo, a soma dos números naturais no intervalo [2, 5] é 14 = (2+3+4+5).\n"
   ]
  },
  {
   "cell_type": "code",
   "execution_count": 97,
   "id": "76894d98",
   "metadata": {},
   "outputs": [
    {
     "name": "stdout",
     "output_type": "stream",
     "text": [
      "Digite os dois limites do intervalo separado por espaço: 1 1000\n",
      "500500\n"
     ]
    }
   ],
   "source": [
    "intervalo = [int(num) for num in input(\"Digite os dois limites do intervalo separado por espaço: \").split()]\n",
    "\n",
    "soma = 0\n",
    "\n",
    "for i in range (intervalo[0], intervalo[1]+1, 1):\n",
    "    soma += i\n",
    "    \n",
    "print(soma)"
   ]
  },
  {
   "cell_type": "markdown",
   "id": "dc37546f",
   "metadata": {},
   "source": [
    "## Questão 8\n",
    "\n",
    "Criar um programa que leia um número que servirá para controlar os números pares que serão impressos a partir de 2.  \n",
    "Exemplo:  \n",
    "Quantidade: 4  \n",
    "Saída no vídeo: 2 4 6 8\n"
   ]
  },
  {
   "cell_type": "code",
   "execution_count": 102,
   "id": "f50f0c9b",
   "metadata": {},
   "outputs": [
    {
     "name": "stdout",
     "output_type": "stream",
     "text": [
      "Digite a quantidade de números pares que serão impressos a partir de 2: 4\n",
      "2 4 6 8 "
     ]
    }
   ],
   "source": [
    "quantidade = int(input(\"Digite a quantidade de números pares que serão impressos a partir de 2: \"))\n",
    "\n",
    "for i in range(2, 2*quantidade+1, 2):\n",
    "    print(i , end = ' ')"
   ]
  },
  {
   "cell_type": "code",
   "execution_count": null,
   "id": "17548ae0",
   "metadata": {},
   "outputs": [],
   "source": []
  }
 ],
 "metadata": {
  "kernelspec": {
   "display_name": "Python 3 (ipykernel)",
   "language": "python",
   "name": "python3"
  },
  "language_info": {
   "codemirror_mode": {
    "name": "ipython",
    "version": 3
   },
   "file_extension": ".py",
   "mimetype": "text/x-python",
   "name": "python",
   "nbconvert_exporter": "python",
   "pygments_lexer": "ipython3",
   "version": "3.11.5"
  }
 },
 "nbformat": 4,
 "nbformat_minor": 5
}
